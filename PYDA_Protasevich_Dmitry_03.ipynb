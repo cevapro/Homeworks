{
 "cells": [
  {
   "cell_type": "markdown",
   "metadata": {},
   "source": [
    "# Домашнее задание к лекции \"Введение в типы данных и циклы. Часть 2\""
   ]
  },
  {
   "cell_type": "markdown",
   "metadata": {},
   "source": [
    "Задание 1"
   ]
  },
  {
   "cell_type": "code",
   "execution_count": 62,
   "metadata": {},
   "outputs": [
    {
     "name": "stdout",
     "output_type": "stream",
     "text": [
      "{98, 35, 15, 213, 54, 119}\n"
     ]
    }
   ],
   "source": [
    "# вывести на экран множество уникальных гео-меток всех пользователей\n",
    "\n",
    "ids = {'user1': [213, 213, 213, 15, 213], \n",
    "       'user2': [54, 54, 119, 119, 119], \n",
    "       'user3': [213, 98, 98, 35]}\n",
    "y = []\n",
    "for x in ids.values():\n",
    "    y = y + x\n",
    "y = set((y))\n",
    "print(y)"
   ]
  },
  {
   "cell_type": "markdown",
   "metadata": {},
   "source": [
    "Задание 2"
   ]
  },
  {
   "cell_type": "code",
   "execution_count": 161,
   "metadata": {},
   "outputs": [
    {
     "name": "stdout",
     "output_type": "stream",
     "text": [
      "Поисковых запросов, содержащих 2 слов(а): 42.86 %\n",
      "Поисковых запросов, содержащих 3 слов(а): 57.14 %\n"
     ]
    }
   ],
   "source": [
    "# вывести распределение количества слов в запросах в требуемом виде\n",
    "\n",
    "queries = [\n",
    "    'смотреть сериалы онлайн',\n",
    "    'новости спорта',\n",
    "    'афиша кино',\n",
    "    'курс доллара',\n",
    "    'сериалы этим летом',\n",
    "    'курс по питону',\n",
    "    'сериалы про спорт',\n",
    "]\n",
    "\n",
    "percent_100 = len(queries)\n",
    "\n",
    "list_number = []\n",
    "for x in queries:\n",
    "    y = len(x.split(' '))\n",
    "    list_number.append(y)\n",
    "\n",
    "M = max(list_number)\n",
    "\n",
    "for i in range(1, (M + 1)):\n",
    "    percent = list_number.count(i) * 100 / percent_100\n",
    "    if percent > 0:\n",
    "        print('Поисковых запросов, содержащих', i, 'слов(а):', round(percent, 2), '%')\n",
    "    else:\n",
    "        continue\n"
   ]
  },
  {
   "cell_type": "markdown",
   "metadata": {},
   "source": [
    "Задание 3"
   ]
  },
  {
   "cell_type": "code",
   "execution_count": 128,
   "metadata": {},
   "outputs": [
    {
     "name": "stdout",
     "output_type": "stream",
     "text": [
      "{'vk': {'revenue': 103, 'cost': 98, 'ROI': 5.1}, 'yandex': {'revenue': 179, 'cost': 153, 'ROI': 16.99}, 'facebook': {'revenue': 103, 'cost': 110, 'ROI': -6.36}, 'adwords': {'revenue': 35, 'cost': 34, 'ROI': 2.94}, 'twitter': {'revenue': 11, 'cost': 24, 'ROI': -54.17}}\n"
     ]
    }
   ],
   "source": [
    "# дополнить исходную структуру показателем ROI\n",
    "# ROI = (revenue / cost - 1) * 100\n",
    "\n",
    "results = {\n",
    "    'vk': {'revenue': 103, 'cost': 98},\n",
    "    'yandex': {'revenue': 179, 'cost': 153},\n",
    "    'facebook': {'revenue': 103, 'cost': 110},\n",
    "    'adwords': {'revenue': 35, 'cost': 34},\n",
    "    'twitter': {'revenue': 11, 'cost': 24},\n",
    "}\n",
    "\n",
    "company_ROI = []\n",
    "results_key = []\n",
    "\n",
    "for x in results.values():\n",
    "    company = (x)\n",
    "    y = company['revenue']\n",
    "    z = company['cost']\n",
    "    ROI_notround = (y / z - 1) * 100\n",
    "    ROI = round(ROI_notround, 2)\n",
    "    company['ROI'] = ROI\n",
    "    company_ROI.append(company)\n",
    "\n",
    "for x in results:\n",
    "    results_key.append(x)\n",
    "\n",
    "results_ROI = dict(zip(results_key, company_ROI))\n",
    "print(results_ROI)"
   ]
  },
  {
   "cell_type": "markdown",
   "metadata": {},
   "source": [
    "Задание 4"
   ]
  },
  {
   "cell_type": "code",
   "execution_count": 59,
   "metadata": {},
   "outputs": [
    {
     "name": "stdout",
     "output_type": "stream",
     "text": [
      "Максимальный объем продаж на рекламном канале: vk\n"
     ]
    }
   ],
   "source": [
    "# вернуть название канала с максимальным объемом продаж\n",
    "\n",
    "stats = {'facebook': 55, 'yandex': 115, 'vk': 120, 'google': 99, 'email': 42, 'ok': 98}\n",
    "\n",
    "rating_list = []\n",
    "for x in stats.values():\n",
    "    rating_list.append(x)\n",
    "y = max(rating_list)\n",
    "\n",
    "stats_list = []\n",
    "for x, z in stats.items():\n",
    "    stats_list.append(x)\n",
    "    stats_list.append(z)\n",
    "index_dict = stats_list.index(y) - 1\n",
    "chanel = stats_list[index_dict]\n",
    "\n",
    "print('Максимальный объем продаж на рекламном канале:', chanel)\n",
    "\n",
    "# индексы в словарях современных версий Phyton вроде как тоже работают, но пока не разобрался как \n",
    "# понимаю что данное решение не работает если максимальный объем продаж будет равным у нескольких компаний"
   ]
  }
 ],
 "metadata": {
  "kernelspec": {
   "display_name": "Python 3",
   "language": "python",
   "name": "python3"
  },
  "language_info": {
   "codemirror_mode": {
    "name": "ipython",
    "version": 3
   },
   "file_extension": ".py",
   "mimetype": "text/x-python",
   "name": "python",
   "nbconvert_exporter": "python",
   "pygments_lexer": "ipython3",
   "version": "3.8.3"
  }
 },
 "nbformat": 4,
 "nbformat_minor": 4
}
