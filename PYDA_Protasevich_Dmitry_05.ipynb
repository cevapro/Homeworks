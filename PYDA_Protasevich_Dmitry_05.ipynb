{
 "cells": [
  {
   "cell_type": "markdown",
   "metadata": {},
   "source": [
    "# Домашнее задание - Работа с файловой системой и модули"
   ]
  },
  {
   "cell_type": "markdown",
   "metadata": {},
   "source": [
    "Задание 1"
   ]
  },
  {
   "cell_type": "code",
   "execution_count": 2,
   "metadata": {},
   "outputs": [
    {
     "data": {
      "text/plain": [
       "<_io.TextIOWrapper name='C:\\\\IT\\\\DATA_for_homeworks\\\\Work_with_file_sistem\\\\purchase_log.txt' mode='r' encoding='utf-8'>"
      ]
     },
     "execution_count": 2,
     "metadata": {},
     "output_type": "execute_result"
    }
   ],
   "source": [
    "# Переведите содержимое файла purchase_log.txt в словарь purchases вида:\n",
    "# {‘1840e0b9d4’: ‘Продукты’, …}\n",
    "\n",
    "f = open('C:\\IT\\DATA_for_homeworks\\Work_with_file_sistem\\purchase_log.txt', encoding='utf-8')\n",
    "f"
   ]
  },
  {
   "cell_type": "code",
   "execution_count": 3,
   "metadata": {},
   "outputs": [
    {
     "data": {
      "text/plain": [
       "'{\"user_id\": \"user_id\", \"category\": \"category\"}\\n'"
      ]
     },
     "execution_count": 3,
     "metadata": {},
     "output_type": "execute_result"
    }
   ],
   "source": [
    "f.readline()"
   ]
  },
  {
   "cell_type": "markdown",
   "metadata": {},
   "source": [
    "Задание 2"
   ]
  },
  {
   "cell_type": "code",
   "execution_count": null,
   "metadata": {},
   "outputs": [],
   "source": [
    "# Для каждого user_id в файле visit_log.csv определите третий столбец с категорией покупки \n",
    "# (если покупка была, сам файл visit_log.csv изменять не надо)\n",
    "# Запишите в файл funnel.csv визиты из файла visit_log.csv, в которых были покупки с указанием категории\n",
    "# Учтите условия на данные:\n",
    "# содержимое purchase_log.txt помещается в оперативную память компьютера\n",
    "# содержимое visit_log.csv - нет; используйте только построчную обработку этого файла\n",
    "\n"
   ]
  },
  {
   "cell_type": "code",
   "execution_count": null,
   "metadata": {},
   "outputs": [],
   "source": []
  }
 ],
 "metadata": {
  "kernelspec": {
   "display_name": "Python 3",
   "language": "python",
   "name": "python3"
  },
  "language_info": {
   "codemirror_mode": {
    "name": "ipython",
    "version": 3
   },
   "file_extension": ".py",
   "mimetype": "text/x-python",
   "name": "python",
   "nbconvert_exporter": "python",
   "pygments_lexer": "ipython3",
   "version": "3.8.3"
  }
 },
 "nbformat": 4,
 "nbformat_minor": 4
}
