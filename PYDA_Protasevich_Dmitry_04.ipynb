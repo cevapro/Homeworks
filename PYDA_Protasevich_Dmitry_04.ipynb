{
 "cells": [
  {
   "cell_type": "markdown",
   "metadata": {},
   "source": [
    "# Домашнее задание к лекции \"Функции\""
   ]
  },
  {
   "cell_type": "code",
   "execution_count": 49,
   "metadata": {},
   "outputs": [],
   "source": [
    "# перечень всех документов\n",
    "documents = [\n",
    " {'type': 'passport', 'number': '2207 876234', 'name': 'Василий Гупкин'},\n",
    " {'type': 'invoice', 'number': '11-2', 'name': 'Геннадий Покемонов'},\n",
    " {'type': 'insurance', 'number': '10006', 'name': 'Аристарх Павлов'}\n",
    "]\n",
    "\n",
    "# перечень полок, на которых хранятся документы\n",
    "# если документ есть в documents, то он обязательно должен быть и в directories\n",
    "directories = {\n",
    " '1': ['2207 876234', '11-2'],\n",
    " '2': ['10006'],\n",
    " '3': []\n",
    "}"
   ]
  },
  {
   "cell_type": "markdown",
   "metadata": {},
   "source": [
    "Задание 1"
   ]
  },
  {
   "cell_type": "markdown",
   "metadata": {},
   "source": [
    "Пункт 1. Пользователь по команде \"p\" может узнать владельца документа по его номеру"
   ]
  },
  {
   "cell_type": "code",
   "execution_count": 37,
   "metadata": {},
   "outputs": [
    {
     "name": "stdout",
     "output_type": "stream",
     "text": [
      "Введите команду: p\n",
      "Введите номер документа: 10006\n",
      "Владелец документа: Аристарх Павлов\n"
     ]
    }
   ],
   "source": [
    "def number_doc():\n",
    "    number = input('Введите номер документа: ')\n",
    "    if number not in sum(list(directories.values()), []):\n",
    "        print('Документ не найден в базе')\n",
    "    else:\n",
    "        return number\n",
    "\n",
    "def command_p():\n",
    "    if command == 'p':    \n",
    "        for x in documents:\n",
    "            if x['number'] == number:\n",
    "                print('Владелец документа:', x['name'])\n",
    "\n",
    "command = input('Введите команду: ')\n",
    "number = number_doc()\n",
    "command_p()"
   ]
  },
  {
   "cell_type": "markdown",
   "metadata": {},
   "source": [
    "Пункт 2. Пользователь по команде \"s\" может по номеру документа узнать на какой полке он хранится"
   ]
  },
  {
   "cell_type": "code",
   "execution_count": 35,
   "metadata": {},
   "outputs": [
    {
     "name": "stdout",
     "output_type": "stream",
     "text": [
      "Введите команду: s\n",
      "Введите номер документа: 10006\n",
      "Документ хранится на полке: 2\n"
     ]
    }
   ],
   "source": [
    "command = input('Введите команду: ')\n",
    "number = number_doc()\n",
    "\n",
    "def command_s():\n",
    "    if command == 's':\n",
    "        for x, y in directories.items():\n",
    "            if number in y:\n",
    "                print('Документ хранится на полке:', x)\n",
    "\n",
    "command_s()"
   ]
  },
  {
   "cell_type": "markdown",
   "metadata": {},
   "source": [
    "Пункт 3. Пользователь по команде \"l\" может увидеть полную информацию по всем документам"
   ]
  },
  {
   "cell_type": "code",
   "execution_count": 36,
   "metadata": {},
   "outputs": [
    {
     "name": "stdout",
     "output_type": "stream",
     "text": [
      "Введите команду: l\n",
      "№ :2207 876234, тип: passport, владелец: Василий Гупкин,  полка хранения: 1\n",
      "№ :11-2, тип: invoice, владелец: Геннадий Покемонов,  полка хранения: 1\n",
      "№ :10006, тип: insurance, владелец: Аристарх Павлов,  полка хранения: 2\n"
     ]
    }
   ],
   "source": [
    "command = input('Введите команду: ')\n",
    "\n",
    "def command_l():\n",
    "    if command == 'l':\n",
    "        for x in documents:\n",
    "            list_1 = ['№ :' + x['number'] + ', ' + 'тип: ' + x['type'] + ', ' + 'владелец: ' + x['name'] + ', ']\n",
    "            number = x['number']\n",
    "            for z, y in directories.items():\n",
    "                if number in y:\n",
    "                    list_2 = ['полка хранения: ' + z]\n",
    "                    print(*(list_1 + list_2))\n",
    "\n",
    "command_l()"
   ]
  },
  {
   "cell_type": "markdown",
   "metadata": {},
   "source": [
    "Пункт 4. Пользователь по команде \"ads\" может добавить новую полку"
   ]
  },
  {
   "cell_type": "code",
   "execution_count": 51,
   "metadata": {},
   "outputs": [
    {
     "name": "stdout",
     "output_type": "stream",
     "text": [
      "Введите команду: ads\n",
      "Введите номер полки: 15\n",
      "Полка добавлена. Текущий перечень полок:  1, 2, 3, 15\n"
     ]
    }
   ],
   "source": [
    "command = input('Введите команду: ')\n",
    "\n",
    "def command_ads():\n",
    "    if command == 'ads':\n",
    "        shelf = input('Введите номер полки: ')\n",
    "        directories[shelf] = []\n",
    "        print('Полка добавлена. Текущий перечень полок: ', ', '.join(directories.keys()))\n",
    "\n",
    "command_ads()"
   ]
  },
  {
   "cell_type": "markdown",
   "metadata": {},
   "source": [
    "Пункт 5. Пользователь по команде \"ds\" может удалить существующую полку из данных (только если она пустая)"
   ]
  },
  {
   "cell_type": "code",
   "execution_count": 52,
   "metadata": {},
   "outputs": [
    {
     "name": "stdout",
     "output_type": "stream",
     "text": [
      "Введите команду: ds\n",
      "Введите номер полки: 15\n",
      "Полка удалена. Текущий перечень полок:  1, 2, 3\n"
     ]
    }
   ],
   "source": [
    "command = input('Введите команду: ')\n",
    "\n",
    "def command_ds():\n",
    "    if command == 'ds':\n",
    "        shelf = input('Введите номер полки: ')\n",
    "        if directories[shelf] == []:\n",
    "            directories.pop(shelf)\n",
    "            print('Полка удалена. Текущий перечень полок: ', ', '.join(directories.keys()))\n",
    "        else:\n",
    "            print('На полке есть документы, удалите их перед удалением полки. Текущий перечень полок: ', ', '.join(directories.keys()))\n",
    "\n",
    "command_ds()"
   ]
  },
  {
   "cell_type": "code",
   "execution_count": null,
   "metadata": {},
   "outputs": [],
   "source": []
  }
 ],
 "metadata": {
  "kernelspec": {
   "display_name": "Python 3",
   "language": "python",
   "name": "python3"
  },
  "language_info": {
   "codemirror_mode": {
    "name": "ipython",
    "version": 3
   },
   "file_extension": ".py",
   "mimetype": "text/x-python",
   "name": "python",
   "nbconvert_exporter": "python",
   "pygments_lexer": "ipython3",
   "version": "3.8.3"
  }
 },
 "nbformat": 4,
 "nbformat_minor": 4
}
