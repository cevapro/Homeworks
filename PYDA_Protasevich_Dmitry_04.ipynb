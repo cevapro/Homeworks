{
 "cells": [
  {
   "cell_type": "markdown",
   "metadata": {},
   "source": [
    "# Домашнее задание к лекции \"Функции\""
   ]
  },
  {
   "cell_type": "code",
   "execution_count": 31,
   "metadata": {},
   "outputs": [],
   "source": [
    "# перечень всех документов\n",
    "documents = [\n",
    " {'type': 'passport', 'number': '2207 876234', 'name': 'Василий Гупкин'},\n",
    " {'type': 'invoice', 'number': '11-2', 'name': 'Геннадий Покемонов'},\n",
    " {'type': 'insurance', 'number': '10006', 'name': 'Аристарх Павлов'}\n",
    "]\n",
    "\n",
    "# перечень полок, на которых хранятся документы\n",
    "# если документ есть в documents, то он обязательно должен быть и в directories\n",
    "directories = {\n",
    " '1': ['2207 876234', '11-2'],\n",
    " '2': ['10006'],\n",
    " '3': []\n",
    "}"
   ]
  },
  {
   "cell_type": "markdown",
   "metadata": {},
   "source": [
    "Задание 1"
   ]
  },
  {
   "cell_type": "markdown",
   "metadata": {},
   "source": [
    "Пункт 1. Пользователь по команде \"p\" может узнать владельца документа по его номеру"
   ]
  },
  {
   "cell_type": "code",
   "execution_count": 41,
   "metadata": {},
   "outputs": [
    {
     "name": "stdout",
     "output_type": "stream",
     "text": [
      "Введите команду: p\n",
      "Введите номер документа: 10006\n",
      "Владелец документа: Аристарх Павлов\n",
      "Введите команду: p\n",
      "Введите номер документа: 11-2\n",
      "Владелец документа: Геннадий Покемонов\n",
      "Введите команду: q\n",
      "Работа завершена\n"
     ]
    }
   ],
   "source": [
    "def input_number():\n",
    "    number = input('Введите номер документа: ')\n",
    "    if number not in sum(list(directories.values()), []):\n",
    "            print('Документ не найден в базе')\n",
    "    else:\n",
    "        return number\n",
    "\n",
    "def command_p():\n",
    "    number = input_number()\n",
    "    for x in documents:\n",
    "        if x['number'] == number:\n",
    "            print('Владелец документа:', x['name'])\n",
    "\n",
    "def main():\n",
    "    while True:\n",
    "        command = input('Введите команду: ')     \n",
    "        if command == 'p':\n",
    "            command_p()\n",
    "        elif command == 'q':\n",
    "            print('Работа завершена')\n",
    "            break\n",
    "\n",
    "main()"
   ]
  },
  {
   "cell_type": "markdown",
   "metadata": {},
   "source": [
    "Пункт 2. Пользователь по команде \"s\" может по номеру документа узнать на какой полке он хранится"
   ]
  },
  {
   "cell_type": "code",
   "execution_count": 42,
   "metadata": {},
   "outputs": [
    {
     "name": "stdout",
     "output_type": "stream",
     "text": [
      "Введите команду: s\n",
      "Введите номер документа: 11-2\n",
      "Документ хранится на полке: 1\n",
      "Введите команду: p\n",
      "Введите номер документа: 11-2\n",
      "Владелец документа: Геннадий Покемонов\n",
      "Введите команду: q\n",
      "Работа завершена\n"
     ]
    }
   ],
   "source": [
    "def command_s():\n",
    "    number = input_number()\n",
    "    for x, y in directories.items():\n",
    "        if number in y:\n",
    "            print('Документ хранится на полке:', x)\n",
    "\n",
    "def main():\n",
    "    while True:\n",
    "        command = input('Введите команду: ')     \n",
    "        if command == 'p':\n",
    "            command_p()\n",
    "        elif command == 's':\n",
    "            command_s()\n",
    "        elif command == 'q':\n",
    "            print('Работа завершена')\n",
    "            break\n",
    "\n",
    "main()"
   ]
  },
  {
   "cell_type": "markdown",
   "metadata": {},
   "source": [
    "Пункт 3. Пользователь по команде \"l\" может увидеть полную информацию по всем документам"
   ]
  },
  {
   "cell_type": "code",
   "execution_count": 44,
   "metadata": {},
   "outputs": [
    {
     "name": "stdout",
     "output_type": "stream",
     "text": [
      "Введите команду: l\n",
      "№ :2207 876234, тип: passport, владелец: Василий Гупкин,  полка хранения: 1\n",
      "№ :11-2, тип: invoice, владелец: Геннадий Покемонов,  полка хранения: 1\n",
      "№ :10006, тип: insurance, владелец: Аристарх Павлов,  полка хранения: 2\n",
      "Введите команду: q\n",
      "Работа завершена\n"
     ]
    }
   ],
   "source": [
    "def command_l():\n",
    "    for x in documents:\n",
    "        list_1 = ['№ :' + x['number'] + ', ' + 'тип: ' + x['type'] + ', ' + 'владелец: ' + x['name'] + ', ']\n",
    "        number = x['number']\n",
    "        for z, y in directories.items():\n",
    "            if number in y:\n",
    "                list_2 = ['полка хранения: ' + z]\n",
    "                print(*(list_1 + list_2))\n",
    "\n",
    "def main():\n",
    "    while True:\n",
    "        command = input('Введите команду: ')     \n",
    "        if command == 'p':\n",
    "            command_p()\n",
    "        elif command == 's':\n",
    "            command_s()\n",
    "        elif command == 'l':\n",
    "            command_l()\n",
    "        elif command == 'q':\n",
    "            print('Работа завершена')\n",
    "            break\n",
    "\n",
    "main()"
   ]
  },
  {
   "cell_type": "markdown",
   "metadata": {},
   "source": [
    "Пункт 4. Пользователь по команде \"ads\" может добавить новую полку"
   ]
  },
  {
   "cell_type": "code",
   "execution_count": 46,
   "metadata": {},
   "outputs": [
    {
     "name": "stdout",
     "output_type": "stream",
     "text": [
      "Введите команду: q\n",
      "Работа завершена\n"
     ]
    }
   ],
   "source": [
    "def command_ads():\n",
    "    shelf = input('Введите номер полки: ')\n",
    "    if shelf in directories.keys():\n",
    "        print('Полка уже существует. Введите другой номер полки')\n",
    "    else:\n",
    "        directories[shelf] = []\n",
    "        print('Полка добавлена. Текущий перечень полок: ', ', '.join(directories.keys()))\n",
    "\n",
    "def main():\n",
    "    while True:\n",
    "        command = input('Введите команду: ')     \n",
    "        if command == 'p':\n",
    "            command_p()\n",
    "        elif command == 's':\n",
    "            command_s()\n",
    "        elif command == 'l':\n",
    "            command_l()\n",
    "        elif command == 'ads':\n",
    "            command_ads()\n",
    "        elif command == 'q':\n",
    "            print('Работа завершена')\n",
    "            break\n",
    "\n",
    "main()"
   ]
  },
  {
   "cell_type": "markdown",
   "metadata": {},
   "source": [
    "Пункт 5. Пользователь по команде \"ds\" может удалить существующую полку из данных (только если она пустая)"
   ]
  },
  {
   "cell_type": "code",
   "execution_count": 49,
   "metadata": {},
   "outputs": [
    {
     "name": "stdout",
     "output_type": "stream",
     "text": [
      "Введите команду: op\n",
      "Введите корректную команду\n",
      "Введите команду: p\n",
      "Введите номер документа: 11-2\n",
      "Владелец документа: Геннадий Покемонов\n",
      "Введите команду: ad\n",
      "Введите корректную команду\n",
      "Введите команду: ads\n",
      "Введите номер полки: 32\n",
      "Полка добавлена. Текущий перечень полок:  1, 2, 3, 32\n",
      "Введите команду: q\n",
      "Работа завершена\n"
     ]
    }
   ],
   "source": [
    "def command_ds():\n",
    "    shelf = input('Введите номер полки: ')\n",
    "    if shelf not in directories.keys():\n",
    "        print('Полки не существует. Текущий перечень полок: ', ', '.join(directories.keys()))\n",
    "    elif directories[shelf] == []:\n",
    "        directories.pop(shelf)\n",
    "        print('Полка удалена. Текущий перечень полок: ', ', '.join(directories.keys()))\n",
    "    else:\n",
    "        print('На полке есть документы, удалите их перед удалением полки. Текущий перечень полок: ', ', '.join(directories.keys()))\n",
    "\n",
    "def main():\n",
    "    while True:\n",
    "        command = input('Введите команду: ')     \n",
    "        if command == 'p':\n",
    "            command_p()\n",
    "        elif command == 's':\n",
    "            command_s()\n",
    "        elif command == 'l':\n",
    "            command_l()\n",
    "        elif command == 'ads':\n",
    "            command_ads()\n",
    "        elif command == 'ds':\n",
    "            command_ds()\n",
    "        elif command not in ['p', 's', 'l', 'ads', 'ds', 'q']:\n",
    "            print('Введите корректную команду')\n",
    "        elif command == 'q':\n",
    "            print('Работа завершена')\n",
    "            break\n",
    "\n",
    "main()"
   ]
  },
  {
   "cell_type": "code",
   "execution_count": null,
   "metadata": {},
   "outputs": [],
   "source": []
  }
 ],
 "metadata": {
  "kernelspec": {
   "display_name": "Python 3",
   "language": "python",
   "name": "python3"
  },
  "language_info": {
   "codemirror_mode": {
    "name": "ipython",
    "version": 3
   },
   "file_extension": ".py",
   "mimetype": "text/x-python",
   "name": "python",
   "nbconvert_exporter": "python",
   "pygments_lexer": "ipython3",
   "version": "3.8.3"
  }
 },
 "nbformat": 4,
 "nbformat_minor": 4
}
