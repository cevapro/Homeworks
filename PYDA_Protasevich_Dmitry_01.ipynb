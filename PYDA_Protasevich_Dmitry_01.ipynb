{
 "cells": [
  {
   "cell_type": "markdown",
   "metadata": {},
   "source": [
    "# Домашнее задание к лекции \"Основы Python\""
   ]
  },
  {
   "cell_type": "markdown",
   "metadata": {},
   "source": [
    "Задание 1"
   ]
  },
  {
   "cell_type": "code",
   "execution_count": 16,
   "metadata": {},
   "outputs": [
    {
     "name": "stdout",
     "output_type": "stream",
     "text": [
      "Фраза 1 длиннее фразы 2\n"
     ]
    }
   ],
   "source": [
    "# Даны 2 переменных, в которых хранятся строки произвольной \n",
    "# длины: phrase_1 и phrase_2.\n",
    "# Напишите код, который проверяет какая из этих строк длиннее\n",
    "\n",
    "phrase_1 = 'Насколько проще было бы писать программы, если бы не заказчики'\n",
    "phrase_2 = '640Кб должно хватить для любых задач. Билл Гейтс (по легенде)'\n",
    "\n",
    "if len(phrase_1) > len(phrase_2):\n",
    "    print('Фраза 1 длиннее фразы 2')\n",
    "elif len(phrase_1) == len(phrase_2):\n",
    "    print('Фразы равной длины')\n",
    "else:\n",
    "    print('Фраза 2 длиннее фразы 1')"
   ]
  },
  {
   "cell_type": "markdown",
   "metadata": {},
   "source": [
    "Задание 2"
   ]
  },
  {
   "cell_type": "code",
   "execution_count": 53,
   "metadata": {},
   "outputs": [
    {
     "name": "stdout",
     "output_type": "stream",
     "text": [
      "Високосный год\n"
     ]
    }
   ],
   "source": [
    "# Дана переменная, в которой хранится четырехзначное число (год). \n",
    "# Необходимо написать программу, которая выведет, \n",
    "# является ли данный год високосным или обычным.\n",
    "\n",
    "year = 2020\n",
    "\n",
    "if year % 4 == 0:\n",
    "    print('Високосный год')\n",
    "else:\n",
    "    print('Обычный год')\n",
    "\n",
    "# является ли важным условие, что если год делится на 100 и на 400, \n",
    "# тогда год не является високосным"
   ]
  },
  {
   "cell_type": "markdown",
   "metadata": {},
   "source": [
    "Задание 3"
   ]
  },
  {
   "cell_type": "code",
   "execution_count": 82,
   "metadata": {},
   "outputs": [
    {
     "name": "stdout",
     "output_type": "stream",
     "text": [
      "Введите день: 12\n",
      "Введите месяц: мая\n",
      "Ваш знак зодиака Телец\n"
     ]
    }
   ],
   "source": [
    "# Необходимо написать программу, которая будет запрашивать у пользователя \n",
    "# месяц и дату рождения и выводить соответствующий знак зодиака\n",
    "\n",
    "day = int(input('Введите день: '))\n",
    "month = str(input('Введите месяц: '))\n",
    "\n",
    "if day > 31:\n",
    "    print('Введите корректную дату')\n",
    "else:\n",
    "    if month == 'март' and day >= 21:\n",
    "        x = 'Овен'\n",
    "    if month == 'апрель' and day <= 20:\n",
    "        x = 'Овен'\n",
    "    if month == 'апрель' and day >= 21:\n",
    "        x = 'Телец'\n",
    "    if month == 'май' and day <= 20:\n",
    "        x = 'Телец'\n",
    "    if month == 'май' and day >= 21:\n",
    "        x = 'Близнецы'\n",
    "    if month == 'июнь' and day <= 20:\n",
    "        x = 'Близнецы'\n",
    "    if month == 'июнь' and day >= 21:\n",
    "        x = 'Рак'\n",
    "    if month == 'июль' and day <= 22:\n",
    "        x = 'Рак'\n",
    "    if month == 'июль' and day >= 23:\n",
    "        x = 'Лев'\n",
    "    if month == 'август' and day <= 22:\n",
    "        x = 'Лев'\n",
    "    if month == 'август' and day >= 23:\n",
    "        x = 'Дева'\n",
    "    if month == 'сентябрь' and day <= 23:\n",
    "        x = 'Дева'\n",
    "    if month == 'сентябрь' and day >= 24:\n",
    "        x = 'Весы'\n",
    "    if month == 'октябрь' and day <= 23:\n",
    "        x = 'Весы'\n",
    "    if month == 'октябрь' and day >= 24:\n",
    "        x = 'Скорпион'\n",
    "    if month == 'ноябрь' and day <= 21:\n",
    "        x = 'Скорпион'\n",
    "    if month == 'ноябрь' and day >= 22:\n",
    "        x = 'Стрелец'\n",
    "    if month == 'декабрь' and day <= 21:\n",
    "        x = 'Стрелец'\n",
    "    if month == 'декабрь' and day >= 22:\n",
    "        x = 'Козерог'\n",
    "    if month == 'январь' and day <= 19:\n",
    "        x = 'Козерог'\n",
    "    if month == 'январь' and day >= 20:\n",
    "        x = 'Водолей'\n",
    "    if month == 'февраль' and day <= 18:\n",
    "        x = 'Водолей'\n",
    "    if month == 'февраль' and day >= 19:\n",
    "        x = 'Рыбы'\n",
    "    if month == 'март' and day <= 20:\n",
    "        x = 'Рыбы'\n",
    "\n",
    "    print('Ваш знак зодиака ' + x)"
   ]
  },
  {
   "cell_type": "markdown",
   "metadata": {},
   "source": [
    "Задание 4"
   ]
  },
  {
   "cell_type": "code",
   "execution_count": 83,
   "metadata": {},
   "outputs": [
    {
     "name": "stdout",
     "output_type": "stream",
     "text": [
      "Упаковка для лыж\n"
     ]
    }
   ],
   "source": [
    "# Нужно написать программу для подбора упаковок по размерам товара. \n",
    "# Размеры хранятся в переменных (в сантиметрах)\n",
    "\n",
    "width = 10\n",
    "length = 205\n",
    "height = 5\n",
    "\n",
    "if width < 15 and length < 15 and height < 15:\n",
    "    print('Коробка №1')\n",
    "if 15 < width < 50 and 15 < length < 50 and 15 < height < 50:\n",
    "    print('Коробка №2')\n",
    "if length > 200:\n",
    "    print('Упаковка для лыж')\n",
    "else:\n",
    "    print('Стандартная коробка №3')"
   ]
  },
  {
   "cell_type": "markdown",
   "metadata": {},
   "source": [
    "Задание 5"
   ]
  },
  {
   "cell_type": "code",
   "execution_count": 8,
   "metadata": {},
   "outputs": [
    {
     "name": "stdout",
     "output_type": "stream",
     "text": [
      "Несчастливый билет\n"
     ]
    }
   ],
   "source": [
    "# Дана переменная, в которой хранится шестизначное число (номер проездного билета). \n",
    "# Является ли данный билет \"счастливым\"\n",
    "\n",
    "number = 123456\n",
    "number_str = str(number)\n",
    "x = number_str[0] + number_str[1] + number_str[2]\n",
    "y = number_str[3] + number_str[4] + number_str[5]\n",
    "\n",
    "if x == y:\n",
    "    print('Счастливый билет')\n",
    "else:\n",
    "    print('Несчастливый билет')"
   ]
  },
  {
   "cell_type": "markdown",
   "metadata": {},
   "source": [
    "Задание 6"
   ]
  },
  {
   "cell_type": "code",
   "execution_count": 31,
   "metadata": {},
   "outputs": [
    {
     "name": "stdout",
     "output_type": "stream",
     "text": [
      "Введите тип фигуры: прямоугольник\n",
      "Введите длину стороны А: 4\n",
      "Введите длину стороны B: 5\n",
      "Площадь прямоуголника: 20\n"
     ]
    }
   ],
   "source": [
    "# Вычислять площади трех фигур: круг, треугольник и прямоугольник \n",
    "# Тип фигуры запрашиваем через пользовательский ввод\n",
    "# если пользователь выбрал круг, запрашиваем его радиус,\n",
    "# если треугольник – длины трех его сторон;\n",
    "# если прямоугольник – длины двух его сторон.\n",
    "\n",
    "shape = str(input('Введите тип фигуры: '))\n",
    "if shape == 'круг':\n",
    "    rad = int(input('Введите радиус круга: '))\n",
    "    S = rad**2 * 3.14\n",
    "    print('Площадь круга:', S)\n",
    "elif shape == 'треугольник':\n",
    "    A = int(input('Введите длину стороны А: '))\n",
    "    B = int(input('Введите длину стороны B: '))\n",
    "    C = int(input('Введите длину стороны C: '))\n",
    "    p = (A + B + C)/2\n",
    "    S = (p * (p - A) * (p - B) * (p - C))**0.5\n",
    "    print('Площадь треугольника:', S)\n",
    "elif shape == 'прямоугольник':\n",
    "    A = int(input('Введите длину стороны А: '))\n",
    "    B = int(input('Введите длину стороны B: '))\n",
    "    print('Площадь прямоугольника:', A * B)\n",
    "else:\n",
    "    print('Введите корректный тип фигуры')"
   ]
  },
  {
   "cell_type": "code",
   "execution_count": null,
   "metadata": {},
   "outputs": [],
   "source": []
  }
 ],
 "metadata": {
  "kernelspec": {
   "display_name": "Python 3",
   "language": "python",
   "name": "python3"
  },
  "language_info": {
   "codemirror_mode": {
    "name": "ipython",
    "version": 3
   },
   "file_extension": ".py",
   "mimetype": "text/x-python",
   "name": "python",
   "nbconvert_exporter": "python",
   "pygments_lexer": "ipython3",
   "version": "3.8.3"
  }
 },
 "nbformat": 4,
 "nbformat_minor": 4
}
