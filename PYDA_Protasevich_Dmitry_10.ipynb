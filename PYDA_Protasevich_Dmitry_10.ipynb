{
 "cells": [
  {
   "cell_type": "markdown",
   "metadata": {},
   "source": [
    "# Домашнее задание «Библиотека Pandas»"
   ]
  },
  {
   "cell_type": "markdown",
   "metadata": {},
   "source": [
    "# Задание 1"
   ]
  },
  {
   "cell_type": "code",
   "execution_count": 115,
   "metadata": {},
   "outputs": [
    {
     "data": {
      "text/html": [
       "<div>\n",
       "<style scoped>\n",
       "    .dataframe tbody tr th:only-of-type {\n",
       "        vertical-align: middle;\n",
       "    }\n",
       "\n",
       "    .dataframe tbody tr th {\n",
       "        vertical-align: top;\n",
       "    }\n",
       "\n",
       "    .dataframe thead th {\n",
       "        text-align: right;\n",
       "    }\n",
       "</style>\n",
       "<table border=\"1\" class=\"dataframe\">\n",
       "  <thead>\n",
       "    <tr style=\"text-align: right;\">\n",
       "      <th></th>\n",
       "      <th>userId</th>\n",
       "      <th>movieId</th>\n",
       "      <th>rating</th>\n",
       "      <th>timestamp</th>\n",
       "    </tr>\n",
       "  </thead>\n",
       "  <tbody>\n",
       "    <tr>\n",
       "      <th>0</th>\n",
       "      <td>1</td>\n",
       "      <td>296</td>\n",
       "      <td>5.0</td>\n",
       "      <td>1147880044</td>\n",
       "    </tr>\n",
       "    <tr>\n",
       "      <th>1</th>\n",
       "      <td>1</td>\n",
       "      <td>306</td>\n",
       "      <td>3.5</td>\n",
       "      <td>1147868817</td>\n",
       "    </tr>\n",
       "    <tr>\n",
       "      <th>2</th>\n",
       "      <td>1</td>\n",
       "      <td>307</td>\n",
       "      <td>5.0</td>\n",
       "      <td>1147868828</td>\n",
       "    </tr>\n",
       "    <tr>\n",
       "      <th>3</th>\n",
       "      <td>1</td>\n",
       "      <td>665</td>\n",
       "      <td>5.0</td>\n",
       "      <td>1147878820</td>\n",
       "    </tr>\n",
       "    <tr>\n",
       "      <th>4</th>\n",
       "      <td>1</td>\n",
       "      <td>899</td>\n",
       "      <td>3.5</td>\n",
       "      <td>1147868510</td>\n",
       "    </tr>\n",
       "  </tbody>\n",
       "</table>\n",
       "</div>"
      ],
      "text/plain": [
       "   userId  movieId  rating   timestamp\n",
       "0       1      296     5.0  1147880044\n",
       "1       1      306     3.5  1147868817\n",
       "2       1      307     5.0  1147868828\n",
       "3       1      665     5.0  1147878820\n",
       "4       1      899     3.5  1147868510"
      ]
     },
     "execution_count": 115,
     "metadata": {},
     "output_type": "execute_result"
    }
   ],
   "source": [
    "import pandas as pd\n",
    "\n",
    "rating_data = pd.read_csv('C:/IT/DATA_for_homeworks/Pandas_library/ml-25m/ratings.csv')\n",
    "rating_data.head()"
   ]
  },
  {
   "cell_type": "code",
   "execution_count": 73,
   "metadata": {},
   "outputs": [
    {
     "data": {
      "text/plain": [
       "356       3.259628e-03\n",
       "318       3.259268e-03\n",
       "296       3.186868e-03\n",
       "593       2.965069e-03\n",
       "2571      2.906949e-03\n",
       "              ...     \n",
       "142782    3.999985e-08\n",
       "63141     3.999985e-08\n",
       "135021    3.999985e-08\n",
       "206712    3.999985e-08\n",
       "190761    3.999985e-08\n",
       "Name: movieId, Length: 59047, dtype: float64"
      ]
     },
     "execution_count": 73,
     "metadata": {},
     "output_type": "execute_result"
    }
   ],
   "source": [
    "# 1 вариант решения\n",
    "rating_data['movieId'].value_counts('5.', ascending=False)"
   ]
  },
  {
   "cell_type": "code",
   "execution_count": 22,
   "metadata": {},
   "outputs": [
    {
     "data": {
      "text/plain": [
       "356     81491\n",
       "318     81482\n",
       "296     79672\n",
       "593     74127\n",
       "2571    72674\n",
       "260     68717\n",
       "480     64144\n",
       "527     60411\n",
       "110     59184\n",
       "2959    58773\n",
       "Name: movieId, dtype: int64"
      ]
     },
     "execution_count": 22,
     "metadata": {},
     "output_type": "execute_result"
    }
   ],
   "source": [
    "# 2 вариант решения\n",
    "movies = rating_data[['rating', 'movieId']]\n",
    "movies.query('rating == 5.0')\n",
    "movies['movieId'].value_counts().head(10)"
   ]
  },
  {
   "cell_type": "markdown",
   "metadata": {},
   "source": [
    "# Задание 2"
   ]
  },
  {
   "cell_type": "code",
   "execution_count": 23,
   "metadata": {},
   "outputs": [
    {
     "data": {
      "text/html": [
       "<div>\n",
       "<style scoped>\n",
       "    .dataframe tbody tr th:only-of-type {\n",
       "        vertical-align: middle;\n",
       "    }\n",
       "\n",
       "    .dataframe tbody tr th {\n",
       "        vertical-align: top;\n",
       "    }\n",
       "\n",
       "    .dataframe thead th {\n",
       "        text-align: right;\n",
       "    }\n",
       "</style>\n",
       "<table border=\"1\" class=\"dataframe\">\n",
       "  <thead>\n",
       "    <tr style=\"text-align: right;\">\n",
       "      <th></th>\n",
       "      <th>country</th>\n",
       "      <th>year</th>\n",
       "      <th>quantity</th>\n",
       "      <th>category</th>\n",
       "    </tr>\n",
       "  </thead>\n",
       "  <tbody>\n",
       "    <tr>\n",
       "      <th>0</th>\n",
       "      <td>Austria</td>\n",
       "      <td>1996</td>\n",
       "      <td>5.0</td>\n",
       "      <td>1</td>\n",
       "    </tr>\n",
       "    <tr>\n",
       "      <th>1</th>\n",
       "      <td>Austria</td>\n",
       "      <td>1995</td>\n",
       "      <td>17.0</td>\n",
       "      <td>1</td>\n",
       "    </tr>\n",
       "    <tr>\n",
       "      <th>2</th>\n",
       "      <td>Belgium</td>\n",
       "      <td>2014</td>\n",
       "      <td>0.0</td>\n",
       "      <td>1</td>\n",
       "    </tr>\n",
       "    <tr>\n",
       "      <th>3</th>\n",
       "      <td>Belgium</td>\n",
       "      <td>2013</td>\n",
       "      <td>0.0</td>\n",
       "      <td>1</td>\n",
       "    </tr>\n",
       "    <tr>\n",
       "      <th>4</th>\n",
       "      <td>Belgium</td>\n",
       "      <td>2012</td>\n",
       "      <td>35.0</td>\n",
       "      <td>1</td>\n",
       "    </tr>\n",
       "  </tbody>\n",
       "</table>\n",
       "</div>"
      ],
      "text/plain": [
       "   country  year  quantity  category\n",
       "0  Austria  1996       5.0         1\n",
       "1  Austria  1995      17.0         1\n",
       "2  Belgium  2014       0.0         1\n",
       "3  Belgium  2013       0.0         1\n",
       "4  Belgium  2012      35.0         1"
      ]
     },
     "execution_count": 23,
     "metadata": {},
     "output_type": "execute_result"
    }
   ],
   "source": [
    "country_data = pd.read_csv('C:/IT/DATA_for_homeworks/Pandas_library/10_Basic_pandas/power.csv')\n",
    "country_data.head()"
   ]
  },
  {
   "cell_type": "code",
   "execution_count": 96,
   "metadata": {},
   "outputs": [],
   "source": [
    "filtered_countries = country_data[ (country_data['country']=='Latvia') | (country_data['country']=='Lithuania') | (country_data['country']=='Estonia')]"
   ]
  },
  {
   "cell_type": "code",
   "execution_count": 97,
   "metadata": {},
   "outputs": [],
   "source": [
    "filtered_countries_1 = filtered_countries[ (filtered_countries['year']>=2005) & (filtered_countries['year']<=2010) ]"
   ]
  },
  {
   "cell_type": "code",
   "execution_count": 103,
   "metadata": {},
   "outputs": [],
   "source": [
    "filtered_countries_2 = filtered_countries_1.query('category == 4 | category == 12 | category == 21')"
   ]
  },
  {
   "cell_type": "code",
   "execution_count": 110,
   "metadata": {},
   "outputs": [],
   "source": [
    "filtered_countries_3 = filtered_countries_2.query('quantity >= 0')"
   ]
  },
  {
   "cell_type": "code",
   "execution_count": 109,
   "metadata": {},
   "outputs": [
    {
     "data": {
      "text/plain": [
       "240580.0"
      ]
     },
     "execution_count": 109,
     "metadata": {},
     "output_type": "execute_result"
    }
   ],
   "source": [
    "filtered_countries_3['quantity'].sum()"
   ]
  },
  {
   "cell_type": "markdown",
   "metadata": {},
   "source": [
    "# Задание 3"
   ]
  },
  {
   "cell_type": "code",
   "execution_count": 122,
   "metadata": {},
   "outputs": [
    {
     "name": "stdout",
     "output_type": "stream",
     "text": [
      "Collecting pymysql\n",
      "  Downloading PyMySQL-1.0.2-py3-none-any.whl (43 kB)\n",
      "Installing collected packages: pymysql\n",
      "Successfully installed pymysql-1.0.2\n"
     ]
    }
   ],
   "source": [
    "# !pip install pymysql\n",
    "import pymysql"
   ]
  },
  {
   "cell_type": "code",
   "execution_count": 134,
   "metadata": {},
   "outputs": [
    {
     "data": {
      "text/plain": [
       "[    Unnamed: 0              Рубль  Предложение  Спрос  Предыдущее закрытие  \\\n",
       " 0          NaN            GBP/RUB      1004103      -              1006890   \n",
       " 1          NaN            EUR/RUB       890120      -               895660   \n",
       " 2          NaN            USD/RUB       735270      -               738572   \n",
       " 3          NaN            JPY/RUB        07102      -                07107   \n",
       " 4          NaN            CNY/RUB       113707      -               113994   \n",
       " 5          NaN            CHF/RUB       826532      -               831066   \n",
       " 6          NaN               Евро  Предложение  Спрос  Предыдущее закрытие   \n",
       " 7          NaN            EUR/USD        12107      -                12128   \n",
       " 8          NaN            EUR/GBP        08864      -                08897   \n",
       " 9          NaN            EUR/JPY      1253300      -              1260300   \n",
       " 10         NaN            EUR/CHF        10769      -                10777   \n",
       " 11         NaN         Доллар США  Предложение  Спрос  Предыдущее закрытие   \n",
       " 12         NaN            USD/EUR        08260      -                08244   \n",
       " 13         NaN            USD/GBP        07323      -                07335   \n",
       " 14         NaN            USD/JPY      1035415      -              1039110   \n",
       " 15         NaN            USD/CHF        08896      -                08887   \n",
       " 16         NaN      Японская иена  Предложение  Спрос  Предыдущее закрытие   \n",
       " 17         NaN    JPY/EUR (100:1)        08000      -                07900   \n",
       " 18         NaN            JPY/GBP        00071      -                00071   \n",
       " 19         NaN            JPY/USD        00097      -                00096   \n",
       " 20         NaN    JPY/CHF (100:1)        08600      -                08600   \n",
       " 21         NaN    Фунт стерлингов  Предложение  Спрос  Предыдущее закрытие   \n",
       " 22         NaN            GBP/USD        13657      -                13635   \n",
       " 23         NaN            GBP/JPY      1413888      -              1416755   \n",
       " 24         NaN            GBP/EUR        11282      -                11242   \n",
       " 25         NaN            GBP/CHF        12149      -                12119   \n",
       " 26         NaN  Швейцарский франк  Предложение  Спрос  Предыдущее закрытие   \n",
       " 27         NaN            GBP/CHF        12149      -                12119   \n",
       " 28         NaN            EUR/CHF        10769      -                10777   \n",
       " 29         NaN    JPY/CHF (100:1)        08600      -                08600   \n",
       " 30         NaN            USD/CHF        08896      -                08887   \n",
       " 31         NaN  Украинская гривна  Предложение  Спрос  Предыдущее закрытие   \n",
       " 32         NaN            EUR/UAH       341884      -               341627   \n",
       " 33         NaN            USD/UAH       282350      -               281650   \n",
       " 34         NaN            CHF/UAH       317390      -               316924   \n",
       " 35         NaN            GBP/UAH       385577      -               383974   \n",
       " \n",
       "           %  Абсолютное значение     Время  \n",
       " 0   -0,28 %               -02787  00:43:00  \n",
       " 1   -0,62 %               -05540  00:44:00  \n",
       " 2   -0,45 %               -03302  00:43:00  \n",
       " 3   -0,07 %               -00005  00:44:00  \n",
       " 4   -0,25 %               -00288  00:43:00  \n",
       " 5   -0,55 %               -04534  00:43:00  \n",
       " 6         %  Абсолютное значение     Время  \n",
       " 7   -0,17 %               -00021  00:44:00  \n",
       " 8   -0,36 %               -00032  00:44:00  \n",
       " 9   -0,56 %               -07000  00:44:00  \n",
       " 10  -0,07 %               -00008  00:44:00  \n",
       " 11        %  Абсолютное значение     Время  \n",
       " 12   0,19 %                00016  00:44:00  \n",
       " 13  -0,17 %               -00012  00:43:00  \n",
       " 14  -0,36 %               -03695  00:44:00  \n",
       " 15   0,10 %                00009  00:44:00  \n",
       " 16        %  Абсолютное значение     Время  \n",
       " 17   0,56 %                00000  00:44:00  \n",
       " 18   0,20 %                00000  00:44:00  \n",
       " 19   0,37 %                00000  00:44:00  \n",
       " 20   0,47 %                00000  00:44:00  \n",
       " 21        %  Абсолютное значение     Время  \n",
       " 22   0,16 %                00022  00:44:00  \n",
       " 23  -0,20 %               -02867  00:44:00  \n",
       " 24   0,36 %                00040  00:44:00  \n",
       " 25   0,25 %                00030  00:44:00  \n",
       " 26        %  Абсолютное значение     Время  \n",
       " 27   0,25 %                00030  00:44:00  \n",
       " 28  -0,07 %               -00008  00:44:00  \n",
       " 29   0,47 %                00000  00:44:00  \n",
       " 30   0,10 %                00009  00:44:00  \n",
       " 31        %  Абсолютное значение     Время  \n",
       " 32   0,08 %                00256  00:43:00  \n",
       " 33   0,25 %                00700  00:43:00  \n",
       " 34   0,15 %                00466  00:43:00  \n",
       " 35   0,42 %                01604  00:43:00  ]"
      ]
     },
     "execution_count": 134,
     "metadata": {},
     "output_type": "execute_result"
    }
   ],
   "source": [
    "page_url = 'https://www.finanz.ru/valyuty/v-realnom-vremeni'\n",
    "df = pd.read_html(page_url, attrs = {'class': 'quote_list'}, encoding='utf-8')\n",
    "df"
   ]
  }
 ],
 "metadata": {
  "kernelspec": {
   "display_name": "Python 3",
   "language": "python",
   "name": "python3"
  },
  "language_info": {
   "codemirror_mode": {
    "name": "ipython",
    "version": 3
   },
   "file_extension": ".py",
   "mimetype": "text/x-python",
   "name": "python",
   "nbconvert_exporter": "python",
   "pygments_lexer": "ipython3",
   "version": "3.8.3"
  }
 },
 "nbformat": 4,
 "nbformat_minor": 4
}
