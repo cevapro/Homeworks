{
 "cells": [
  {
   "cell_type": "markdown",
   "metadata": {},
   "source": [
    "# Домашнее задание к лекции \"Регулярные выражения\""
   ]
  },
  {
   "cell_type": "markdown",
   "metadata": {},
   "source": [
    "# Задание 1"
   ]
  },
  {
   "cell_type": "code",
   "execution_count": 98,
   "metadata": {},
   "outputs": [
    {
     "name": "stdout",
     "output_type": "stream",
     "text": [
      "Номер  А222ВС валиден. Регион:  96\n",
      "Номер не валиден\n"
     ]
    }
   ],
   "source": [
    "car_id = 'А222ВС96'\n",
    "car_id2 = 'АБ22ВВ193'\n",
    "\n",
    "import re\n",
    "\n",
    "def number_valid(car_id):\n",
    "    \"\"\"\n",
    "    проверяет является ли валидным транспортный номер\n",
    "    1 буква, 3 цифры, 2 буквы, 2-3 цифры\n",
    "    выводит результат формата:\n",
    "    Номер А222ВС валиден. Регион: 96\n",
    "    \"\"\"\n",
    "    try:\n",
    "        result_1 = re.findall(r'^[АВЕКМНОРСТУХ]{1}[0-9]{3}[АВЕКМНОРСТУХ]{2}', car_id)\n",
    "        result_2 = re.findall(r'[0-9]{2,3}$', car_id)\n",
    "        print ('Номер ', result_1[0], 'валиден. Регион: ', result_2[0])\n",
    "    except:\n",
    "        print('Номер не валиден')\n",
    "\n",
    "\n",
    "number_valid(car_id)\n",
    "number_valid(car_id2)"
   ]
  },
  {
   "cell_type": "markdown",
   "metadata": {},
   "source": [
    "# Задание 2"
   ]
  },
  {
   "cell_type": "code",
   "execution_count": 311,
   "metadata": {},
   "outputs": [
    {
     "data": {
      "text/plain": [
       "'Напишите функцию , которая будет удалять все последовательные повторы слов из заданной строки при помощи регулярных выражений'"
      ]
     },
     "execution_count": 311,
     "metadata": {},
     "output_type": "execute_result"
    }
   ],
   "source": [
    "some_string = 'Напишите функцию функцию, которая будет будет будет будет удалять все все все все последовательные повторы слов из из из из заданной строки строки при помощи регулярных выражений'\n",
    "\n",
    "import re\n",
    "\n",
    "def del_repeat(some_string):\n",
    "    \"\"\"удаляет все последовательные повторы слов из заданной строки\"\"\"\n",
    "    \n",
    "    x = re.sub(r'(\\w+) (\\1 ?){1,}', r'\\1 ', some_string)\n",
    "    return x\n",
    "\n",
    "del_repeat(some_string)"
   ]
  },
  {
   "cell_type": "markdown",
   "metadata": {},
   "source": [
    "# Задание 3"
   ]
  },
  {
   "cell_type": "code",
   "execution_count": 388,
   "metadata": {},
   "outputs": [
    {
     "name": "stdout",
     "output_type": "stream",
     "text": [
      "ИТ\n",
      "NFC\n"
     ]
    }
   ],
   "source": [
    "some_words = 'Информационные технологии'\n",
    "some_words2 = 'Near Field Communication'\n",
    "\n",
    "import re\n",
    "\n",
    "def acronym_words(some_words):\n",
    "    \"\"\"возвращает акроним по переданной строке со словами\"\"\"\n",
    "\n",
    "    x = re.findall(r'\\b\\w', some_words)\n",
    "    x = ''.join(x)\n",
    "    print(x.upper())\n",
    "    \n",
    "    \n",
    "acronym_words(some_words)\n",
    "acronym_words(some_words2)"
   ]
  },
  {
   "cell_type": "markdown",
   "metadata": {},
   "source": [
    "# Задание 4"
   ]
  },
  {
   "cell_type": "code",
   "execution_count": 346,
   "metadata": {},
   "outputs": [
    {
     "name": "stdout",
     "output_type": "stream",
     "text": [
      "{'@gmail.com': 2, '@test.in': 1, '@ya.ru': 2, '@mail.ru': 1}\n"
     ]
    }
   ],
   "source": [
    "emails = 'test@gmail.com, xyz@test.in, test@ya.ru, xyz@mail.ru, xyz@ya.ru, xyz@gmail.com'\n",
    "\n",
    "import re\n",
    "\n",
    "def domen_zone(emails):\n",
    "    x = re.findall(r'@\\w+\\.\\w+', emails)\n",
    "    y = {}\n",
    "    for i in x:\n",
    "        z = x.count(i)\n",
    "        m = {i : z}\n",
    "        y.update(m)\n",
    "    print(y)\n",
    "\n",
    "domen_zone(emails)"
   ]
  }
 ],
 "metadata": {
  "kernelspec": {
   "display_name": "Python 3",
   "language": "python",
   "name": "python3"
  },
  "language_info": {
   "codemirror_mode": {
    "name": "ipython",
    "version": 3
   },
   "file_extension": ".py",
   "mimetype": "text/x-python",
   "name": "python",
   "nbconvert_exporter": "python",
   "pygments_lexer": "ipython3",
   "version": "3.8.3"
  }
 },
 "nbformat": 4,
 "nbformat_minor": 4
}
